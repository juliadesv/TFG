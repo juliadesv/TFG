{
 "cells": [
  {
   "cell_type": "code",
   "execution_count": 1,
   "id": "71efe2d3",
   "metadata": {},
   "outputs": [],
   "source": [
    "import numpy as np\n",
    "import matplotlib.pyplot as plt\n",
    "import pandas as pd\n",
    "import datetime as dt\n",
    "from sklearn import metrics\n",
    "from sklearn.metrics import roc_auc_score\n",
    "from sklearn.metrics import confusion_matrix\n",
    "import seaborn as sb"
   ]
  },
  {
   "cell_type": "code",
   "execution_count": 2,
   "id": "f0918e4a",
   "metadata": {},
   "outputs": [],
   "source": [
    "df=pd.read_csv('TFG_OFICIAL-Copy1.csv')"
   ]
  },
  {
   "cell_type": "code",
   "execution_count": 3,
   "id": "f867e949",
   "metadata": {},
   "outputs": [
    {
     "name": "stdout",
     "output_type": "stream",
     "text": [
      "<class 'pandas.core.frame.DataFrame'>\n",
      "RangeIndex: 17919 entries, 0 to 17918\n",
      "Data columns (total 45 columns):\n",
      " #   Column                          Non-Null Count  Dtype  \n",
      "---  ------                          --------------  -----  \n",
      " 0   Case_number                     17919 non-null  object \n",
      " 1   District_code                   17919 non-null  int64  \n",
      " 2   District_name                   17919 non-null  object \n",
      " 3   Neighborhood_code               17919 non-null  int64  \n",
      " 4   Neighborhood_name               17919 non-null  object \n",
      " 5   Street_code                     17919 non-null  int64  \n",
      " 6   Street_name                     17919 non-null  object \n",
      " 7   Postal_number                   17919 non-null  object \n",
      " 8   Week_day                        17919 non-null  object \n",
      " 9   Year                            17919 non-null  int64  \n",
      " 10  Month                           17919 non-null  int64  \n",
      " 11  Month_name                      17919 non-null  object \n",
      " 12  Day_month                       17919 non-null  int64  \n",
      " 13  Shift                           17919 non-null  object \n",
      " 14  Time                            17919 non-null  int64  \n",
      " 15  Pedestrian_cause                17919 non-null  object \n",
      " 16  Type_of_vehicle                 17919 non-null  object \n",
      " 17  Sex                             17919 non-null  object \n",
      " 18  Age                             17919 non-null  object \n",
      " 19  Person_type                     17919 non-null  object \n",
      " 20  Pedestrian_collision_place      17919 non-null  object \n",
      " 21  Pedestrian_displacement_motive  17919 non-null  object \n",
      " 22  Driver_displacement_motive      17919 non-null  object \n",
      " 23  Injury_severity                 17919 non-null  object \n",
      " 24  Coordinate_UTM_X_ED50           17919 non-null  float64\n",
      " 25  Coordinate_UTM_Y_ED50           17919 non-null  float64\n",
      " 26  Longitude                       17797 non-null  object \n",
      " 27  Latitude                        17797 non-null  object \n",
      " 28  Day                             17919 non-null  object \n",
      " 29  Holiday                         17919 non-null  object \n",
      " 30  Time_segment                    17919 non-null  object \n",
      " 31  Vacation_day                    17919 non-null  bool   \n",
      " 32  Numero_expedient_count          17919 non-null  int64  \n",
      " 33  Number of victims               17919 non-null  int64  \n",
      " 34  Slightly injured                17919 non-null  int64  \n",
      " 35  Severely injured                17919 non-null  int64  \n",
      " 36  Weekend Exists                  17919 non-null  bool   \n",
      " 37  Season                          17919 non-null  object \n",
      " 38  Density                         17919 non-null  int64  \n",
      " 39  TM                              17919 non-null  float64\n",
      " 40  HRM                             17919 non-null  int64  \n",
      " 41  PM                              17919 non-null  float64\n",
      " 42  PPT                             17919 non-null  float64\n",
      " 43  RS24h                           17919 non-null  float64\n",
      " 44  VVM10                           17919 non-null  float64\n",
      "dtypes: bool(2), float64(7), int64(13), object(23)\n",
      "memory usage: 5.9+ MB\n"
     ]
    }
   ],
   "source": [
    "df.info()"
   ]
  },
  {
   "cell_type": "code",
   "execution_count": 4,
   "id": "7b1227df",
   "metadata": {},
   "outputs": [
    {
     "data": {
      "text/plain": [
       "Desconegut                                                                                                                                                15653\n",
       "En pas regulat per semàfor                                                                                                                                  916\n",
       "Fora del pas                                                                                                                                                550\n",
       "A la vorera / Andana                                                                                                                                        270\n",
       "En pas sense regular                                                                                                                                        227\n",
       "Altres                                                                                                                                                      149\n",
       "En zona peatonal                                                                                                                                            135\n",
       "En pas sense senyalitzar                                                                                                                                     19\n",
       "Name: Pedestrian_collision_place, dtype: int64"
      ]
     },
     "execution_count": 4,
     "metadata": {},
     "output_type": "execute_result"
    }
   ],
   "source": [
    "df['Pedestrian_collision_place'].value_counts()"
   ]
  },
  {
   "cell_type": "code",
   "execution_count": 5,
   "id": "54b5cfab",
   "metadata": {},
   "outputs": [],
   "source": [
    "df.drop('District_code', axis=1, inplace=True)\n",
    "df.drop('Neighborhood_code', axis=1, inplace=True)\n",
    "df.drop('Street_code', axis=1, inplace=True)\n",
    "df.drop('Neighborhood_name', axis=1, inplace=True)\n",
    "df.drop('Street_name', axis=1, inplace=True)\n",
    "df.drop('Postal_number', axis=1, inplace=True)\n",
    "df.drop('Month', axis=1, inplace=True)\n",
    "df.drop('Shift', axis=1, inplace=True)\n",
    "df.drop('Pedestrian_cause', axis=1, inplace=True)\n",
    "df.drop('Pedestrian_collision_place', axis=1, inplace=True)\n",
    "df.drop('Pedestrian_displacement_motive', axis=1, inplace=True)\n",
    "df.drop('Driver_displacement_motive', axis=1, inplace=True)\n",
    "df.drop('Latitude', axis=1, inplace=True)\n",
    "df.drop('Longitude', axis=1, inplace=True)\n",
    "df.drop('Holiday', axis=1, inplace=True)"
   ]
  },
  {
   "cell_type": "code",
   "execution_count": 6,
   "id": "0792459c",
   "metadata": {},
   "outputs": [],
   "source": [
    "df.drop('Coordinate_UTM_X_ED50 ', axis=1, inplace=True)\n",
    "df.drop('Coordinate_UTM_Y_ED50', axis=1, inplace=True)"
   ]
  },
  {
   "cell_type": "code",
   "execution_count": 8,
   "id": "330ae51f",
   "metadata": {},
   "outputs": [
    {
     "name": "stdout",
     "output_type": "stream",
     "text": [
      "<class 'pandas.core.frame.DataFrame'>\n",
      "RangeIndex: 17919 entries, 0 to 17918\n",
      "Data columns (total 28 columns):\n",
      " #   Column                  Non-Null Count  Dtype  \n",
      "---  ------                  --------------  -----  \n",
      " 0   Case_number             17919 non-null  object \n",
      " 1   District_name           17919 non-null  object \n",
      " 2   Week_day                17919 non-null  object \n",
      " 3   Year                    17919 non-null  int64  \n",
      " 4   Month_name              17919 non-null  object \n",
      " 5   Day_month               17919 non-null  int64  \n",
      " 6   Time                    17919 non-null  int64  \n",
      " 7   Type_of_vehicle         17919 non-null  object \n",
      " 8   Sex                     17919 non-null  object \n",
      " 9   Age                     17919 non-null  object \n",
      " 10  Person_type             17919 non-null  object \n",
      " 11  Injury_severity         17919 non-null  object \n",
      " 12  Day                     17919 non-null  object \n",
      " 13  Time_segment            17919 non-null  object \n",
      " 14  Vacation_day            17919 non-null  bool   \n",
      " 15  Numero_expedient_count  17919 non-null  int64  \n",
      " 16  Number of victims       17919 non-null  int64  \n",
      " 17  Slightly injured        17919 non-null  int64  \n",
      " 18  Severely injured        17919 non-null  int64  \n",
      " 19  Weekend Exists          17919 non-null  bool   \n",
      " 20  Season                  17919 non-null  object \n",
      " 21  Density                 17919 non-null  int64  \n",
      " 22  TM                      17919 non-null  float64\n",
      " 23  HRM                     17919 non-null  int64  \n",
      " 24  PM                      17919 non-null  float64\n",
      " 25  PPT                     17919 non-null  float64\n",
      " 26  RS24h                   17919 non-null  float64\n",
      " 27  VVM10                   17919 non-null  float64\n",
      "dtypes: bool(2), float64(5), int64(9), object(12)\n",
      "memory usage: 3.6+ MB\n"
     ]
    }
   ],
   "source": [
    "df.info()"
   ]
  },
  {
   "cell_type": "code",
   "execution_count": 10,
   "id": "0baf18f6",
   "metadata": {},
   "outputs": [],
   "source": [
    "# Supongamos que tu DataFrame se llama 'df'\n",
    "# Reorganizar las columnas para mover 'Day' a la posición 2\n",
    "new_order = ['Case_number', 'Day', 'Year', 'Month_name', 'Day_month', 'Week_day', 'Time', 'District_name', 'Type_of_vehicle',\n",
    "             'Sex', 'Age', 'Person_type', 'Injury_severity', 'Time_segment', 'Vacation_day', 'Numero_expedient_count',\n",
    "             'Number of victims', 'Slightly injured', 'Severely injured', 'Weekend Exists', 'Season', 'Density', 'TM',\n",
    "             'HRM', 'PM', 'PPT', 'RS24h', 'VVM10']\n",
    "\n",
    "df = df[new_order]\n"
   ]
  },
  {
   "cell_type": "code",
   "execution_count": 12,
   "id": "7f21040a",
   "metadata": {},
   "outputs": [
    {
     "name": "stdout",
     "output_type": "stream",
     "text": [
      "<class 'pandas.core.frame.DataFrame'>\n",
      "RangeIndex: 17919 entries, 0 to 17918\n",
      "Data columns (total 28 columns):\n",
      " #   Column                  Non-Null Count  Dtype  \n",
      "---  ------                  --------------  -----  \n",
      " 0   Case_number             17919 non-null  object \n",
      " 1   Day                     17919 non-null  object \n",
      " 2   Year                    17919 non-null  int64  \n",
      " 3   Month_name              17919 non-null  object \n",
      " 4   Day_month               17919 non-null  int64  \n",
      " 5   Week_day                17919 non-null  object \n",
      " 6   Time                    17919 non-null  int64  \n",
      " 7   District_name           17919 non-null  object \n",
      " 8   Type_of_vehicle         17919 non-null  object \n",
      " 9   Sex                     17919 non-null  object \n",
      " 10  Age                     17919 non-null  object \n",
      " 11  Person_type             17919 non-null  object \n",
      " 12  Injury_severity         17919 non-null  object \n",
      " 13  Time_segment            17919 non-null  object \n",
      " 14  Vacation_day            17919 non-null  bool   \n",
      " 15  Numero_expedient_count  17919 non-null  int64  \n",
      " 16  Number of victims       17919 non-null  int64  \n",
      " 17  Slightly injured        17919 non-null  int64  \n",
      " 18  Severely injured        17919 non-null  int64  \n",
      " 19  Weekend Exists          17919 non-null  bool   \n",
      " 20  Season                  17919 non-null  object \n",
      " 21  Density                 17919 non-null  int64  \n",
      " 22  TM                      17919 non-null  float64\n",
      " 23  HRM                     17919 non-null  int64  \n",
      " 24  PM                      17919 non-null  float64\n",
      " 25  PPT                     17919 non-null  float64\n",
      " 26  RS24h                   17919 non-null  float64\n",
      " 27  VVM10                   17919 non-null  float64\n",
      "dtypes: bool(2), float64(5), int64(9), object(12)\n",
      "memory usage: 3.6+ MB\n"
     ]
    }
   ],
   "source": [
    "df.info()"
   ]
  },
  {
   "cell_type": "code",
   "execution_count": 31,
   "id": "e53b578f",
   "metadata": {},
   "outputs": [],
   "source": [
    "df.to_csv('TFG_para_hacer:graficos.csv',index=False)"
   ]
  },
  {
   "cell_type": "code",
   "execution_count": 32,
   "id": "3fad9d41",
   "metadata": {},
   "outputs": [
    {
     "name": "stderr",
     "output_type": "stream",
     "text": [
      "C:\\Users\\julsd\\anaconda3\\lib\\site-packages\\pandas\\core\\frame.py:4901: SettingWithCopyWarning: \n",
      "A value is trying to be set on a copy of a slice from a DataFrame\n",
      "\n",
      "See the caveats in the documentation: https://pandas.pydata.org/pandas-docs/stable/user_guide/indexing.html#returning-a-view-versus-a-copy\n",
      "  return super().drop(\n"
     ]
    }
   ],
   "source": [
    "df.drop('Year', axis=1, inplace=True)\n",
    "df.drop('Month_name', axis=1, inplace=True)\n",
    "df.drop('Time', axis=1, inplace=True)"
   ]
  },
  {
   "cell_type": "code",
   "execution_count": 35,
   "id": "f7d53f39",
   "metadata": {},
   "outputs": [
    {
     "name": "stdout",
     "output_type": "stream",
     "text": [
      "<class 'pandas.core.frame.DataFrame'>\n",
      "RangeIndex: 17919 entries, 0 to 17918\n",
      "Data columns (total 23 columns):\n",
      " #   Column                  Non-Null Count  Dtype  \n",
      "---  ------                  --------------  -----  \n",
      " 0   Case_number             17919 non-null  object \n",
      " 1   Day                     17919 non-null  object \n",
      " 2   Week_day                17919 non-null  object \n",
      " 3   District_name           17919 non-null  object \n",
      " 4   Sex                     17919 non-null  object \n",
      " 5   Age                     17919 non-null  object \n",
      " 6   Person_type             17919 non-null  object \n",
      " 7   Injury_severity         17919 non-null  object \n",
      " 8   Time_segment            17919 non-null  object \n",
      " 9   Vacation_day            17919 non-null  bool   \n",
      " 10  Numero_expedient_count  17919 non-null  int64  \n",
      " 11  Number of victims       17919 non-null  int64  \n",
      " 12  Slightly injured        17919 non-null  int64  \n",
      " 13  Severely injured        17919 non-null  int64  \n",
      " 14  Weekend Exists          17919 non-null  bool   \n",
      " 15  Season                  17919 non-null  object \n",
      " 16  Density                 17919 non-null  int64  \n",
      " 17  TM                      17919 non-null  float64\n",
      " 18  HRM                     17919 non-null  int64  \n",
      " 19  PM                      17919 non-null  float64\n",
      " 20  PPT                     17919 non-null  float64\n",
      " 21  RS24h                   17919 non-null  float64\n",
      " 22  VVM10                   17919 non-null  float64\n",
      "dtypes: bool(2), float64(5), int64(6), object(10)\n",
      "memory usage: 2.9+ MB\n"
     ]
    }
   ],
   "source": [
    "df.info()"
   ]
  },
  {
   "cell_type": "code",
   "execution_count": 34,
   "id": "272a133a",
   "metadata": {},
   "outputs": [],
   "source": [
    "df.to_csv('TFG_OFICIAL.csv',index=False)"
   ]
  }
 ],
 "metadata": {
  "kernelspec": {
   "display_name": "Python 3 (ipykernel)",
   "language": "python",
   "name": "python3"
  },
  "language_info": {
   "codemirror_mode": {
    "name": "ipython",
    "version": 3
   },
   "file_extension": ".py",
   "mimetype": "text/x-python",
   "name": "python",
   "nbconvert_exporter": "python",
   "pygments_lexer": "ipython3",
   "version": "3.11.5"
  }
 },
 "nbformat": 4,
 "nbformat_minor": 5
}
