{
 "cells": [
  {
   "cell_type": "code",
   "execution_count": 1,
   "id": "bc811d8c",
   "metadata": {},
   "outputs": [],
   "source": [
    "import numpy as np\n",
    "import matplotlib.pyplot as plt\n",
    "import pandas as pd\n",
    "import datetime as dt\n",
    "from sklearn import metrics\n",
    "from sklearn.metrics import roc_auc_score\n",
    "from sklearn.metrics import confusion_matrix\n",
    "import seaborn as sns"
   ]
  },
  {
   "cell_type": "code",
   "execution_count": 2,
   "id": "d22c9cd1",
   "metadata": {},
   "outputs": [],
   "source": [
    "df=pd.read_csv('dataset_guardado.csv')"
   ]
  },
  {
   "cell_type": "code",
   "execution_count": 3,
   "id": "a6e68d92",
   "metadata": {},
   "outputs": [
    {
     "data": {
      "text/html": [
       "<div>\n",
       "<style scoped>\n",
       "    .dataframe tbody tr th:only-of-type {\n",
       "        vertical-align: middle;\n",
       "    }\n",
       "\n",
       "    .dataframe tbody tr th {\n",
       "        vertical-align: top;\n",
       "    }\n",
       "\n",
       "    .dataframe thead th {\n",
       "        text-align: right;\n",
       "    }\n",
       "</style>\n",
       "<table border=\"1\" class=\"dataframe\">\n",
       "  <thead>\n",
       "    <tr style=\"text-align: right;\">\n",
       "      <th></th>\n",
       "      <th>Time segment</th>\n",
       "      <th>Holiday</th>\n",
       "      <th>Weekend Exit</th>\n",
       "      <th>Season</th>\n",
       "      <th>Weekend Return</th>\n",
       "      <th>Number</th>\n",
       "      <th>Exceeds Threshold</th>\n",
       "    </tr>\n",
       "  </thead>\n",
       "  <tbody>\n",
       "    <tr>\n",
       "      <th>0</th>\n",
       "      <td>10-14</td>\n",
       "      <td>No</td>\n",
       "      <td>No</td>\n",
       "      <td>Fall</td>\n",
       "      <td>No</td>\n",
       "      <td>636</td>\n",
       "      <td>Yes</td>\n",
       "    </tr>\n",
       "    <tr>\n",
       "      <th>1</th>\n",
       "      <td>10-14</td>\n",
       "      <td>No</td>\n",
       "      <td>No</td>\n",
       "      <td>Fall</td>\n",
       "      <td>Yes</td>\n",
       "      <td>0</td>\n",
       "      <td>No</td>\n",
       "    </tr>\n",
       "    <tr>\n",
       "      <th>2</th>\n",
       "      <td>10-14</td>\n",
       "      <td>No</td>\n",
       "      <td>No</td>\n",
       "      <td>Spring</td>\n",
       "      <td>No</td>\n",
       "      <td>642</td>\n",
       "      <td>Yes</td>\n",
       "    </tr>\n",
       "    <tr>\n",
       "      <th>3</th>\n",
       "      <td>10-14</td>\n",
       "      <td>No</td>\n",
       "      <td>No</td>\n",
       "      <td>Spring</td>\n",
       "      <td>Yes</td>\n",
       "      <td>0</td>\n",
       "      <td>No</td>\n",
       "    </tr>\n",
       "    <tr>\n",
       "      <th>4</th>\n",
       "      <td>10-14</td>\n",
       "      <td>No</td>\n",
       "      <td>No</td>\n",
       "      <td>Summer</td>\n",
       "      <td>No</td>\n",
       "      <td>589</td>\n",
       "      <td>Yes</td>\n",
       "    </tr>\n",
       "    <tr>\n",
       "      <th>...</th>\n",
       "      <td>...</td>\n",
       "      <td>...</td>\n",
       "      <td>...</td>\n",
       "      <td>...</td>\n",
       "      <td>...</td>\n",
       "      <td>...</td>\n",
       "      <td>...</td>\n",
       "    </tr>\n",
       "    <tr>\n",
       "      <th>187</th>\n",
       "      <td>6-10</td>\n",
       "      <td>Yes</td>\n",
       "      <td>Yes</td>\n",
       "      <td>Spring</td>\n",
       "      <td>Yes</td>\n",
       "      <td>0</td>\n",
       "      <td>No</td>\n",
       "    </tr>\n",
       "    <tr>\n",
       "      <th>188</th>\n",
       "      <td>6-10</td>\n",
       "      <td>Yes</td>\n",
       "      <td>Yes</td>\n",
       "      <td>Summer</td>\n",
       "      <td>No</td>\n",
       "      <td>2</td>\n",
       "      <td>No</td>\n",
       "    </tr>\n",
       "    <tr>\n",
       "      <th>189</th>\n",
       "      <td>6-10</td>\n",
       "      <td>Yes</td>\n",
       "      <td>Yes</td>\n",
       "      <td>Summer</td>\n",
       "      <td>Yes</td>\n",
       "      <td>0</td>\n",
       "      <td>No</td>\n",
       "    </tr>\n",
       "    <tr>\n",
       "      <th>190</th>\n",
       "      <td>6-10</td>\n",
       "      <td>Yes</td>\n",
       "      <td>Yes</td>\n",
       "      <td>Winter</td>\n",
       "      <td>No</td>\n",
       "      <td>0</td>\n",
       "      <td>No</td>\n",
       "    </tr>\n",
       "    <tr>\n",
       "      <th>191</th>\n",
       "      <td>6-10</td>\n",
       "      <td>Yes</td>\n",
       "      <td>Yes</td>\n",
       "      <td>Winter</td>\n",
       "      <td>Yes</td>\n",
       "      <td>0</td>\n",
       "      <td>No</td>\n",
       "    </tr>\n",
       "  </tbody>\n",
       "</table>\n",
       "<p>192 rows × 7 columns</p>\n",
       "</div>"
      ],
      "text/plain": [
       "    Time segment Holiday Weekend Exit  Season Weekend Return  Number  \\\n",
       "0          10-14      No           No    Fall             No     636   \n",
       "1          10-14      No           No    Fall            Yes       0   \n",
       "2          10-14      No           No  Spring             No     642   \n",
       "3          10-14      No           No  Spring            Yes       0   \n",
       "4          10-14      No           No  Summer             No     589   \n",
       "..           ...     ...          ...     ...            ...     ...   \n",
       "187         6-10     Yes          Yes  Spring            Yes       0   \n",
       "188         6-10     Yes          Yes  Summer             No       2   \n",
       "189         6-10     Yes          Yes  Summer            Yes       0   \n",
       "190         6-10     Yes          Yes  Winter             No       0   \n",
       "191         6-10     Yes          Yes  Winter            Yes       0   \n",
       "\n",
       "    Exceeds Threshold  \n",
       "0                 Yes  \n",
       "1                  No  \n",
       "2                 Yes  \n",
       "3                  No  \n",
       "4                 Yes  \n",
       "..                ...  \n",
       "187                No  \n",
       "188                No  \n",
       "189                No  \n",
       "190                No  \n",
       "191                No  \n",
       "\n",
       "[192 rows x 7 columns]"
      ]
     },
     "execution_count": 3,
     "metadata": {},
     "output_type": "execute_result"
    }
   ],
   "source": [
    "df"
   ]
  },
  {
   "cell_type": "code",
   "execution_count": 4,
   "id": "b3c87c90",
   "metadata": {},
   "outputs": [],
   "source": [
    "\n",
    "df = df.drop('Number', axis=1)\n",
    "\n",
    "\n"
   ]
  },
  {
   "cell_type": "code",
   "execution_count": 5,
   "id": "3fa806cd",
   "metadata": {},
   "outputs": [
    {
     "data": {
      "text/html": [
       "<div>\n",
       "<style scoped>\n",
       "    .dataframe tbody tr th:only-of-type {\n",
       "        vertical-align: middle;\n",
       "    }\n",
       "\n",
       "    .dataframe tbody tr th {\n",
       "        vertical-align: top;\n",
       "    }\n",
       "\n",
       "    .dataframe thead th {\n",
       "        text-align: right;\n",
       "    }\n",
       "</style>\n",
       "<table border=\"1\" class=\"dataframe\">\n",
       "  <thead>\n",
       "    <tr style=\"text-align: right;\">\n",
       "      <th></th>\n",
       "      <th>Time segment</th>\n",
       "      <th>Holiday</th>\n",
       "      <th>Weekend Exit</th>\n",
       "      <th>Season</th>\n",
       "      <th>Weekend Return</th>\n",
       "      <th>Exceeds Threshold</th>\n",
       "    </tr>\n",
       "  </thead>\n",
       "  <tbody>\n",
       "    <tr>\n",
       "      <th>0</th>\n",
       "      <td>10-14</td>\n",
       "      <td>No</td>\n",
       "      <td>No</td>\n",
       "      <td>Fall</td>\n",
       "      <td>No</td>\n",
       "      <td>Yes</td>\n",
       "    </tr>\n",
       "    <tr>\n",
       "      <th>1</th>\n",
       "      <td>10-14</td>\n",
       "      <td>No</td>\n",
       "      <td>No</td>\n",
       "      <td>Fall</td>\n",
       "      <td>Yes</td>\n",
       "      <td>No</td>\n",
       "    </tr>\n",
       "    <tr>\n",
       "      <th>2</th>\n",
       "      <td>10-14</td>\n",
       "      <td>No</td>\n",
       "      <td>No</td>\n",
       "      <td>Spring</td>\n",
       "      <td>No</td>\n",
       "      <td>Yes</td>\n",
       "    </tr>\n",
       "    <tr>\n",
       "      <th>3</th>\n",
       "      <td>10-14</td>\n",
       "      <td>No</td>\n",
       "      <td>No</td>\n",
       "      <td>Spring</td>\n",
       "      <td>Yes</td>\n",
       "      <td>No</td>\n",
       "    </tr>\n",
       "    <tr>\n",
       "      <th>4</th>\n",
       "      <td>10-14</td>\n",
       "      <td>No</td>\n",
       "      <td>No</td>\n",
       "      <td>Summer</td>\n",
       "      <td>No</td>\n",
       "      <td>Yes</td>\n",
       "    </tr>\n",
       "    <tr>\n",
       "      <th>...</th>\n",
       "      <td>...</td>\n",
       "      <td>...</td>\n",
       "      <td>...</td>\n",
       "      <td>...</td>\n",
       "      <td>...</td>\n",
       "      <td>...</td>\n",
       "    </tr>\n",
       "    <tr>\n",
       "      <th>187</th>\n",
       "      <td>6-10</td>\n",
       "      <td>Yes</td>\n",
       "      <td>Yes</td>\n",
       "      <td>Spring</td>\n",
       "      <td>Yes</td>\n",
       "      <td>No</td>\n",
       "    </tr>\n",
       "    <tr>\n",
       "      <th>188</th>\n",
       "      <td>6-10</td>\n",
       "      <td>Yes</td>\n",
       "      <td>Yes</td>\n",
       "      <td>Summer</td>\n",
       "      <td>No</td>\n",
       "      <td>No</td>\n",
       "    </tr>\n",
       "    <tr>\n",
       "      <th>189</th>\n",
       "      <td>6-10</td>\n",
       "      <td>Yes</td>\n",
       "      <td>Yes</td>\n",
       "      <td>Summer</td>\n",
       "      <td>Yes</td>\n",
       "      <td>No</td>\n",
       "    </tr>\n",
       "    <tr>\n",
       "      <th>190</th>\n",
       "      <td>6-10</td>\n",
       "      <td>Yes</td>\n",
       "      <td>Yes</td>\n",
       "      <td>Winter</td>\n",
       "      <td>No</td>\n",
       "      <td>No</td>\n",
       "    </tr>\n",
       "    <tr>\n",
       "      <th>191</th>\n",
       "      <td>6-10</td>\n",
       "      <td>Yes</td>\n",
       "      <td>Yes</td>\n",
       "      <td>Winter</td>\n",
       "      <td>Yes</td>\n",
       "      <td>No</td>\n",
       "    </tr>\n",
       "  </tbody>\n",
       "</table>\n",
       "<p>192 rows × 6 columns</p>\n",
       "</div>"
      ],
      "text/plain": [
       "    Time segment Holiday Weekend Exit  Season Weekend Return Exceeds Threshold\n",
       "0          10-14      No           No    Fall             No               Yes\n",
       "1          10-14      No           No    Fall            Yes                No\n",
       "2          10-14      No           No  Spring             No               Yes\n",
       "3          10-14      No           No  Spring            Yes                No\n",
       "4          10-14      No           No  Summer             No               Yes\n",
       "..           ...     ...          ...     ...            ...               ...\n",
       "187         6-10     Yes          Yes  Spring            Yes                No\n",
       "188         6-10     Yes          Yes  Summer             No                No\n",
       "189         6-10     Yes          Yes  Summer            Yes                No\n",
       "190         6-10     Yes          Yes  Winter             No                No\n",
       "191         6-10     Yes          Yes  Winter            Yes                No\n",
       "\n",
       "[192 rows x 6 columns]"
      ]
     },
     "execution_count": 5,
     "metadata": {},
     "output_type": "execute_result"
    }
   ],
   "source": [
    "df"
   ]
  },
  {
   "cell_type": "code",
   "execution_count": 6,
   "id": "1eac0851",
   "metadata": {},
   "outputs": [],
   "source": [
    "X = df[['Time segment', 'Holiday', 'Weekend Exit', 'Season', 'Weekend Return']]\n",
    "y=df['Exceeds Threshold']\n",
    "\n",
    "from sklearn.model_selection import train_test_split\n",
    "from sklearn.model_selection import train_test_split\n",
    "X_train, X_test, y_train, y_test = train_test_split(X, y, test_size = 0.33, random_state = 42)"
   ]
  },
  {
   "cell_type": "code",
   "execution_count": null,
   "id": "abd87cc7",
   "metadata": {},
   "outputs": [],
   "source": []
  },
  {
   "cell_type": "code",
   "execution_count": 7,
   "id": "1481e3a6",
   "metadata": {},
   "outputs": [],
   "source": [
    "X_train, X_test, y_train, y_test = train_test_split(X, y, test_size = 0.33, random_state = 42)"
   ]
  },
  {
   "cell_type": "code",
   "execution_count": 8,
   "id": "23e76785",
   "metadata": {},
   "outputs": [],
   "source": [
    "# Suponiendo que deseas mapear 'Yes' a 1 y 'No' a 0 en la columna 'Exceeds Threshold'\n",
    "mapeo = {'Yes': 1, 'No': 0}\n",
    "df['Exceeds Threshold'] = df['Exceeds Threshold'].map(mapeo)\n",
    "df['Weekend Exit'] = df['Weekend Exit'].map(mapeo)\n",
    "df['Holiday'] = df['Holiday'].map(mapeo)\n",
    "df['Weekend Return'] = df['Weekend Return'].map(mapeo)\n",
    "mapi= {'6-10': 0, '10-14': 1, '14-18': 2, '18-22': 3, '22-2': 4, '2-6': 5}\n",
    "df['Time segment'] = df['Time segment'].map(mapi)\n",
    "mapis= {'Winter': 0, 'Spring': 1, 'Summer': 2, 'Fall': 3}\n",
    "df['Season'] = df['Season'].map(mapis)"
   ]
  },
  {
   "cell_type": "code",
   "execution_count": 9,
   "id": "8fb5e48b",
   "metadata": {},
   "outputs": [],
   "source": [
    "X = df[['Time segment', 'Holiday', 'Weekend Exit', 'Season', 'Weekend Return']]\n",
    "y=df['Exceeds Threshold']\n",
    "\n",
    "from sklearn.model_selection import train_test_split\n",
    "from sklearn.model_selection import train_test_split\n",
    "X_train, X_test, y_train, y_test = train_test_split(X, y, test_size = 0.33, random_state = 42)"
   ]
  },
  {
   "cell_type": "code",
   "execution_count": 10,
   "id": "960a71fa",
   "metadata": {},
   "outputs": [],
   "source": [
    "X_train, X_test, y_train, y_test = train_test_split(X, y, test_size = 0.33, random_state = 42)"
   ]
  },
  {
   "cell_type": "code",
   "execution_count": 11,
   "id": "e41011c2",
   "metadata": {},
   "outputs": [],
   "source": [
    "from sklearn.tree import DecisionTreeClassifier\n",
    "clf_en = DecisionTreeClassifier(criterion='entropy', max_depth=3, random_state=0)\n",
    "clf_en.fit(X_train, y_train)\n",
    "y_pred_en = clf_en.predict(X_test)"
   ]
  },
  {
   "cell_type": "code",
   "execution_count": 12,
   "id": "6d8616ba",
   "metadata": {},
   "outputs": [
    {
     "name": "stdout",
     "output_type": "stream",
     "text": [
      "Model accuracy score with criterion entropy: 0.9375\n"
     ]
    },
    {
     "data": {
      "text/plain": [
       "[Text(0.625, 0.875, 'x[4] <= 0.5\\nentropy = 0.625\\nsamples = 128\\nvalue = [108, 20]'),\n",
       " Text(0.5, 0.625, 'x[1] <= 0.5\\nentropy = 0.885\\nsamples = 66\\nvalue = [46, 20]'),\n",
       " Text(0.25, 0.375, 'x[0] <= 4.5\\nentropy = 0.999\\nsamples = 35\\nvalue = [17, 18]'),\n",
       " Text(0.125, 0.125, 'entropy = 0.94\\nsamples = 28\\nvalue = [10, 18]'),\n",
       " Text(0.375, 0.125, 'entropy = 0.0\\nsamples = 7\\nvalue = [7, 0]'),\n",
       " Text(0.75, 0.375, 'x[2] <= 0.5\\nentropy = 0.345\\nsamples = 31\\nvalue = [29, 2]'),\n",
       " Text(0.625, 0.125, 'entropy = 0.523\\nsamples = 17\\nvalue = [15, 2]'),\n",
       " Text(0.875, 0.125, 'entropy = 0.0\\nsamples = 14\\nvalue = [14, 0]'),\n",
       " Text(0.75, 0.625, 'entropy = 0.0\\nsamples = 62\\nvalue = [62, 0]')]"
      ]
     },
     "execution_count": 12,
     "metadata": {},
     "output_type": "execute_result"
    },
    {
     "data": {
      "image/png": "[encoded data removed]",
      "text/plain": [
       "<Figure size 864x576 with 1 Axes>"
      ]
     },
     "metadata": {
      "needs_background": "light"
     },
     "output_type": "display_data"
    }
   ],
   "source": [
    "from sklearn.metrics import accuracy_score\n",
    "print('Model accuracy score with criterion entropy: {0:0.4f}'. format(accuracy_score(y_test, y_pred_en)))\n",
    "y_pred_train_en = clf_en.predict(X_train)\n",
    "y_pred_train_en\n",
    "plt.figure(figsize=(12,8))\n",
    "from sklearn import tree\n",
    "tree.plot_tree(clf_en.fit(X_train, y_train))"
   ]
  },
  {
   "cell_type": "code",
   "execution_count": 13,
   "id": "70f5310a",
   "metadata": {},
   "outputs": [],
   "source": [
    "from sklearn.metrics import confusion_matrix\n",
    "cm = confusion_matrix(y_test, y_pred_en)\n"
   ]
  },
  {
   "cell_type": "code",
   "execution_count": 14,
   "id": "8e764fd5",
   "metadata": {},
   "outputs": [
    {
     "data": {
      "text/plain": [
       "array([[51,  3],\n",
       "       [ 1,  9]], dtype=int64)"
      ]
     },
     "execution_count": 14,
     "metadata": {},
     "output_type": "execute_result"
    }
   ],
   "source": [
    "cm"
   ]
  },
  {
   "cell_type": "code",
   "execution_count": 15,
   "id": "6319ac2f",
   "metadata": {},
   "outputs": [
    {
     "name": "stdout",
     "output_type": "stream",
     "text": [
      "[[51  3]\n",
      " [ 1  9]]\n"
     ]
    }
   ],
   "source": [
    "from sklearn.metrics import confusion_matrix\n",
    "conf_matrix = confusion_matrix(y_test, y_pred_en)\n",
    "print(conf_matrix)\n"
   ]
  },
  {
   "cell_type": "code",
   "execution_count": 16,
   "id": "4887e9a1",
   "metadata": {},
   "outputs": [
    {
     "name": "stdout",
     "output_type": "stream",
     "text": [
      "              precision    recall  f1-score   support\n",
      "\n",
      "           0       0.98      0.94      0.96        54\n",
      "           1       0.75      0.90      0.82        10\n",
      "\n",
      "    accuracy                           0.94        64\n",
      "   macro avg       0.87      0.92      0.89        64\n",
      "weighted avg       0.94      0.94      0.94        64\n",
      "\n"
     ]
    }
   ],
   "source": [
    "from sklearn.metrics import classification_report\n",
    "print(classification_report(y_test, y_pred_en))\n"
   ]
  },
  {
   "cell_type": "code",
   "execution_count": 17,
   "id": "2200ece3",
   "metadata": {},
   "outputs": [
    {
     "name": "stdout",
     "output_type": "stream",
     "text": [
      "Feature Importance: [0.19301608 0.2840024  0.04049629 0.         0.48248524]\n"
     ]
    }
   ],
   "source": [
    "feature_importance = clf_en.feature_importances_\n",
    "print(\"Feature Importance:\", feature_importance)\n"
   ]
  },
  {
   "cell_type": "code",
   "execution_count": 18,
   "id": "dc2db225",
   "metadata": {},
   "outputs": [
    {
     "data": {
      "image/png": "[encoded data removed]",
      "text/plain": [
       "<Figure size 720x432 with 1 Axes>"
      ]
     },
     "metadata": {
      "needs_background": "light"
     },
     "output_type": "display_data"
    }
   ],
   "source": [
    "import matplotlib.pyplot as plt\n",
    "\n",
    "feature_names = X.columns  # Obtén los nombres de las características desde tus datos\n",
    "\n",
    "# Crea un gráfico de barras para visualizar la importancia de las características\n",
    "plt.figure(figsize=(10, 6))\n",
    "plt.bar(feature_names, feature_importance, color='blue')\n",
    "plt.xlabel('Features')\n",
    "plt.ylabel('Importance')\n",
    "plt.title('Feature Importance in Decision Tree Classifier')\n",
    "plt.show()\n"
   ]
  },
  {
   "cell_type": "code",
   "execution_count": null,
   "id": "836a6190",
   "metadata": {},
   "outputs": [],
   "source": []
  }
 ],
 "metadata": {
  "kernelspec": {
   "display_name": "Python 3 (ipykernel)",
   "language": "python",
   "name": "python3"
  },
  "language_info": {
   "codemirror_mode": {
    "name": "ipython",
    "version": 3
   },
   "file_extension": ".py",
   "mimetype": "text/x-python",
   "name": "python",
   "nbconvert_exporter": "python",
   "pygments_lexer": "ipython3",
   "version": "3.11.5"
  }
 },
 "nbformat": 4,
 "nbformat_minor": 5
}
